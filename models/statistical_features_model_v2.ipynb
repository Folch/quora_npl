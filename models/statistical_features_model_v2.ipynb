{
 "cells": [
  {
   "cell_type": "code",
   "execution_count": 1,
   "metadata": {},
   "outputs": [],
   "source": [
    "import pandas as pd\n",
    "import nltk\n",
    "from nltk import word_tokenize\n",
    "\n",
    "from nltk.stem.snowball import SnowballStemmer\n",
    "\n",
    "from sklearn.model_selection import train_test_split\n",
    "\n",
    "import sys\n",
    "sys.path.insert(0, '../common/')\n",
    "import csv_utils\n",
    "\n",
    "import os\n",
    "import spacy"
   ]
  },
  {
   "cell_type": "code",
   "execution_count": 2,
   "metadata": {},
   "outputs": [],
   "source": [
    "path = os.path.join('..','data','train_data_v2.csv')\n",
    "train_data = pd.read_csv(path)\n",
    "\n",
    "path = os.path.join('..','data','test_data.csv')\n",
    "test_data = pd.read_csv(path)"
   ]
  },
  {
   "cell_type": "markdown",
   "metadata": {},
   "source": [
    "#### Checking how many NaNs there are in the dataset"
   ]
  },
  {
   "cell_type": "code",
   "execution_count": 3,
   "metadata": {},
   "outputs": [],
   "source": [
    "# tokenize questions\n",
    "train_data.question1 = train_data.question1.apply(word_tokenize)\n",
    "train_data.question2 = train_data.question2.apply(word_tokenize)\n",
    "\n",
    "test_data.question1 = test_data.question1.apply(word_tokenize)\n",
    "test_data.question2 = test_data.question2.apply(word_tokenize)"
   ]
  },
  {
   "cell_type": "code",
   "execution_count": 4,
   "metadata": {},
   "outputs": [],
   "source": [
    "stemmer=SnowballStemmer(\"english\")\n",
    "#example: stemmer.stem(\"having\") -> have"
   ]
  },
  {
   "cell_type": "code",
   "execution_count": 5,
   "metadata": {},
   "outputs": [],
   "source": [
    "# tokenize questions\n",
    "steming = lambda tokens: [stemmer.stem(token) for token in tokens]\n",
    "train_data.question1 = train_data.question1.apply(steming)\n",
    "train_data.question2 = train_data.question2.apply(steming)\n",
    "test_data.question1 = test_data.question1.apply(steming)\n",
    "test_data.question2 = test_data.question2.apply(steming)"
   ]
  },
  {
   "cell_type": "code",
   "execution_count": 6,
   "metadata": {},
   "outputs": [],
   "source": [
    "wh = ['what', 'where', 'what', 'why', 'which', 'how']\n",
    "def contain5W1H(tokens):\n",
    "    return any([stemmer.stem(x) in tokens for x in wh])\n",
    "\n",
    "def which5W1H(tokens):\n",
    "    #print([stemmer.stem(x) for x in wh if stemmer.stem(x) in tokens][0])\n",
    "    for x in wh:\n",
    "        s = stemmer.stem(x) \n",
    "        if s in tokens:\n",
    "            return s\n",
    "\n",
    "def get_features(q1, q2):\n",
    "    output = {}\n",
    "    tokens1 = list(set(q1))\n",
    "    tokens2 = list(set(q2))\n",
    "    output['similar_words'] = sum([word in tokens2 for word in tokens1])\n",
    "    #output['both_contain_5w-1h'] = contain5W1H(q1) and contain5W1H(q2)\n",
    "    output['same_5w-1h'] = which5W1H(q1) == which5W1H(q2)\n",
    "    output['absolute_difference_of_lenth'] = abs(len(q1) - len(q2))\n",
    "    #output['length_q1'] = len(q1)\n",
    "    #output['length_q2'] = len(q2)\n",
    "    return output"
   ]
  },
  {
   "cell_type": "code",
   "execution_count": 7,
   "metadata": {},
   "outputs": [
    {
     "name": "stdout",
     "output_type": "stream",
     "text": [
      "['should', 'i', 'buy', 'tiago', '?']\n",
      "['what', 'keep', 'childern', 'activ', 'and', 'far', 'from', 'phone', 'and', 'video', 'game', '?']\n"
     ]
    },
    {
     "data": {
      "text/plain": [
       "{'similar_words': 1, 'same_5w-1h': False, 'absolute_difference_of_lenth': 7}"
      ]
     },
     "execution_count": 7,
     "metadata": {},
     "output_type": "execute_result"
    }
   ],
   "source": [
    "# Example\n",
    "q1 = train_data.question1.at[6]\n",
    "q2 = train_data.question2.at[6]\n",
    "print(q1)\n",
    "print(q2)\n",
    "get_features(q1, q2)"
   ]
  },
  {
   "cell_type": "code",
   "execution_count": 8,
   "metadata": {},
   "outputs": [],
   "source": [
    "featuresets = [(get_features(row.question1, row.question2), row.is_duplicate) for (index, row) in train_data.iterrows()]\n",
    "train, test = train_test_split(featuresets, test_size=0.33, random_state=42)"
   ]
  },
  {
   "cell_type": "code",
   "execution_count": 9,
   "metadata": {},
   "outputs": [],
   "source": [
    "classifier = nltk.NaiveBayesClassifier.train(train)"
   ]
  },
  {
   "cell_type": "code",
   "execution_count": 10,
   "metadata": {},
   "outputs": [
    {
     "name": "stdout",
     "output_type": "stream",
     "text": [
      "0.6507225040555873\n"
     ]
    }
   ],
   "source": [
    "print(nltk.classify.accuracy(classifier, test))"
   ]
  },
  {
   "cell_type": "code",
   "execution_count": 11,
   "metadata": {},
   "outputs": [
    {
     "name": "stdout",
     "output_type": "stream",
     "text": [
      "Most Informative Features\n",
      "           similar_words = 1                   0 : 1      =   1805.6 : 1.0\n",
      "absolute_difference_of_lenth = 28                  0 : 1      =     39.9 : 1.0\n",
      "absolute_difference_of_lenth = 31                  0 : 1      =     35.3 : 1.0\n",
      "absolute_difference_of_lenth = 30                  0 : 1      =     31.9 : 1.0\n",
      "absolute_difference_of_lenth = 32                  0 : 1      =     21.9 : 1.0\n"
     ]
    }
   ],
   "source": [
    "classifier.show_most_informative_features(5)"
   ]
  },
  {
   "cell_type": "code",
   "execution_count": 12,
   "metadata": {},
   "outputs": [],
   "source": [
    "real_classifier = nltk.NaiveBayesClassifier.train(featuresets)"
   ]
  },
  {
   "cell_type": "code",
   "execution_count": 13,
   "metadata": {},
   "outputs": [],
   "source": [
    "test_featureset = [get_features(row.question1, row.question2) for (index, row) in test_data.iterrows()]"
   ]
  },
  {
   "cell_type": "code",
   "execution_count": 14,
   "metadata": {},
   "outputs": [],
   "source": [
    "predicted = [real_classifier.classify(t) for t in test_featureset]"
   ]
  },
  {
   "cell_type": "code",
   "execution_count": 15,
   "metadata": {},
   "outputs": [
    {
     "name": "stdout",
     "output_type": "stream",
     "text": [
      "saved in:  /home/zenbook/Work/github/quora_npl/models/../data/submissions/submission_0603PM-November-23-2018.csv\n"
     ]
    }
   ],
   "source": [
    "csv_utils.create_csvs(predicted, test_data.test_id.values)"
   ]
  }
 ],
 "metadata": {
  "kernelspec": {
   "display_name": "Python 3",
   "language": "python",
   "name": "python3"
  },
  "language_info": {
   "codemirror_mode": {
    "name": "ipython",
    "version": 3
   },
   "file_extension": ".py",
   "mimetype": "text/x-python",
   "name": "python",
   "nbconvert_exporter": "python",
   "pygments_lexer": "ipython3",
   "version": "3.6.5"
  }
 },
 "nbformat": 4,
 "nbformat_minor": 2
}

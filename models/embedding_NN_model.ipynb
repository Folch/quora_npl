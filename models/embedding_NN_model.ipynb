{
 "cells": [
  {
   "cell_type": "code",
   "execution_count": 26,
   "metadata": {},
   "outputs": [],
   "source": [
    "import pandas as pd\n",
    "import numpy as np\n",
    "\n",
    "from keras.preprocessing.sequence import pad_sequences\n",
    "from keras.preprocessing.text import Tokenizer\n",
    "from keras.layers import Dense,LSTM,concatenate,Input,SimpleRNN, Embedding, Conv1D, MaxPooling1D, Flatten\n",
    "from keras.models import Model, load_model\n",
    "\n",
    "from sklearn.model_selection import train_test_split\n",
    "\n",
    "import sys\n",
    "sys.path.insert(0, '../common/')\n",
    "import csv_utils\n",
    "\n",
    "import os"
   ]
  },
  {
   "cell_type": "code",
   "execution_count": 27,
   "metadata": {},
   "outputs": [],
   "source": [
    "path = os.path.join('..','data','train_data_v2.csv')\n",
    "train_data = pd.read_csv(path)"
   ]
  },
  {
   "cell_type": "code",
   "execution_count": 28,
   "metadata": {},
   "outputs": [
    {
     "data": {
      "text/html": [
       "<div>\n",
       "<style scoped>\n",
       "    .dataframe tbody tr th:only-of-type {\n",
       "        vertical-align: middle;\n",
       "    }\n",
       "\n",
       "    .dataframe tbody tr th {\n",
       "        vertical-align: top;\n",
       "    }\n",
       "\n",
       "    .dataframe thead th {\n",
       "        text-align: right;\n",
       "    }\n",
       "</style>\n",
       "<table border=\"1\" class=\"dataframe\">\n",
       "  <thead>\n",
       "    <tr style=\"text-align: right;\">\n",
       "      <th></th>\n",
       "      <th>id</th>\n",
       "      <th>question1</th>\n",
       "      <th>question2</th>\n",
       "      <th>is_duplicate</th>\n",
       "    </tr>\n",
       "  </thead>\n",
       "  <tbody>\n",
       "    <tr>\n",
       "      <th>0</th>\n",
       "      <td>0</td>\n",
       "      <td>What is the step by step guide to invest in sh...</td>\n",
       "      <td>What is the step by step guide to invest in sh...</td>\n",
       "      <td>0</td>\n",
       "    </tr>\n",
       "    <tr>\n",
       "      <th>1</th>\n",
       "      <td>1</td>\n",
       "      <td>What is the story of Kohinoor (Koh-i-Noor) Dia...</td>\n",
       "      <td>What would happen if the Indian government sto...</td>\n",
       "      <td>0</td>\n",
       "    </tr>\n",
       "    <tr>\n",
       "      <th>2</th>\n",
       "      <td>2</td>\n",
       "      <td>How can I increase the speed of my internet co...</td>\n",
       "      <td>How can Internet speed be increased by hacking...</td>\n",
       "      <td>0</td>\n",
       "    </tr>\n",
       "    <tr>\n",
       "      <th>3</th>\n",
       "      <td>3</td>\n",
       "      <td>Why am I mentally very lonely? How can I solve...</td>\n",
       "      <td>Find the remainder when [math]23^{24}[/math] i...</td>\n",
       "      <td>0</td>\n",
       "    </tr>\n",
       "    <tr>\n",
       "      <th>4</th>\n",
       "      <td>4</td>\n",
       "      <td>Which one dissolve in water quikly sugar, salt...</td>\n",
       "      <td>Which fish would survive in salt water?</td>\n",
       "      <td>0</td>\n",
       "    </tr>\n",
       "  </tbody>\n",
       "</table>\n",
       "</div>"
      ],
      "text/plain": [
       "   id                                          question1  \\\n",
       "0   0  What is the step by step guide to invest in sh...   \n",
       "1   1  What is the story of Kohinoor (Koh-i-Noor) Dia...   \n",
       "2   2  How can I increase the speed of my internet co...   \n",
       "3   3  Why am I mentally very lonely? How can I solve...   \n",
       "4   4  Which one dissolve in water quikly sugar, salt...   \n",
       "\n",
       "                                           question2  is_duplicate  \n",
       "0  What is the step by step guide to invest in sh...             0  \n",
       "1  What would happen if the Indian government sto...             0  \n",
       "2  How can Internet speed be increased by hacking...             0  \n",
       "3  Find the remainder when [math]23^{24}[/math] i...             0  \n",
       "4            Which fish would survive in salt water?             0  "
      ]
     },
     "execution_count": 28,
     "metadata": {},
     "output_type": "execute_result"
    }
   ],
   "source": [
    "train_data.head()"
   ]
  },
  {
   "cell_type": "code",
   "execution_count": 35,
   "metadata": {},
   "outputs": [],
   "source": [
    "MAX_LENGTH = 150\n",
    "def prep_data(train, test):\n",
    "    tokenizer = Tokenizer()\n",
    "    tokenizer.fit_on_texts(train[0] + train[1])\n",
    "\n",
    "    q1_train = tokenizer.texts_to_sequences(train[0])\n",
    "    q2_train = tokenizer.texts_to_sequences(train[1])\n",
    "    q1_test = tokenizer.texts_to_sequences(test[0])\n",
    "    q2_test = tokenizer.texts_to_sequences(test[1])\n",
    "\n",
    "    q1_train = pad_sequences(q1_train, maxlen=MAX_LENGTH)\n",
    "    q2_train = pad_sequences(q2_train, maxlen=MAX_LENGTH)\n",
    "    q1_test = pad_sequences(q1_test, maxlen=MAX_LENGTH)\n",
    "    q2_test = pad_sequences(q2_test, maxlen=MAX_LENGTH)\n",
    "\n",
    "    train = q1_train, q2_train, train[2]\n",
    "    if len(test) == 3:\n",
    "        test = q1_test, q2_test, test[2]\n",
    "    else:\n",
    "        test = q1_test, q2_test\n",
    "    \n",
    "    return train, test, len(tokenizer.word_counts)+1"
   ]
  },
  {
   "cell_type": "code",
   "execution_count": 36,
   "metadata": {},
   "outputs": [],
   "source": [
    "data = train_data[['question1', 'question2', 'is_duplicate']].values\n",
    "train, test = train_test_split(data, test_size=0.33, random_state=42)\n",
    "train = train.T\n",
    "test = test.T"
   ]
  },
  {
   "cell_type": "code",
   "execution_count": 37,
   "metadata": {},
   "outputs": [],
   "source": [
    "train, test, vocab = prep_data(train, test)"
   ]
  },
  {
   "cell_type": "code",
   "execution_count": 47,
   "metadata": {},
   "outputs": [],
   "source": [
    "input_q1 = Input(shape=(MAX_LENGTH,), dtype='float32')\n",
    "input_q2 = Input(shape=(MAX_LENGTH,), dtype='float32')\n",
    "\n",
    "embd_q1 = Embedding(vocab, 200, input_length=MAX_LENGTH)(input_q1)\n",
    "embd_q2 = Embedding(vocab, 200, input_length=MAX_LENGTH)(input_q2)\n",
    "\n",
    "conv_q1 = Conv1D(128, 5, activation='relu')(embd_q1)\n",
    "conv_q2 = Conv1D(128, 5, activation='relu')(embd_q2)\n",
    "conv_q1 = MaxPooling1D(2)(conv_q1)\n",
    "conv_q2 = MaxPooling1D(2)(conv_q2)\n",
    "for i in range(2):\n",
    "    conv_q1 = Conv1D(128, 5, activation='relu')(conv_q1)\n",
    "    conv_q2 = Conv1D(128, 5, activation='relu')(conv_q2)\n",
    "    conv_q1 = MaxPooling1D(2)(conv_q1)\n",
    "    conv_q2 = MaxPooling1D(2)(conv_q2)\n",
    "\n",
    "flatten_q1 = Flatten()(conv_q1)\n",
    "flatten_q2 = Flatten()(conv_q2)\n",
    "\n",
    "concat = concatenate([flatten_q1,flatten_q2],axis=-1)\n",
    "for i in range(2):\n",
    "    concat = Dense(64, activation='relu')(concat)\n",
    "\n",
    "output=Dense(1, activation='sigmoid')(concat)\n",
    "\n",
    "model = Model(inputs=[input_q1, input_q2], outputs=output)\n",
    "model.compile(optimizer='rmsprop',\n",
    "          loss='binary_crossentropy', # binary_crossentropy\n",
    "          metrics=['binary_accuracy'])"
   ]
  },
  {
   "cell_type": "code",
   "execution_count": null,
   "metadata": {},
   "outputs": [
    {
     "name": "stdout",
     "output_type": "stream",
     "text": [
      "Epoch 1/5\n",
      "216517/216517 [==============================] - 6084s 28ms/step - loss: 0.5626 - binary_accuracy: 0.7187\n",
      "Epoch 2/5\n",
      "216517/216517 [==============================] - 6564s 30ms/step - loss: 0.5514 - binary_accuracy: 0.7508\n",
      "Epoch 4/5\n",
      " 25056/216517 [==>...........................] - ETA: 1:35:41 - loss: 0.5641 - binary_accuracy: 0.7607"
     ]
    }
   ],
   "source": [
    "model.fit([train[0], train[1]],train[2],batch_size=32, epochs=5)"
   ]
  },
  {
   "cell_type": "code",
   "execution_count": 51,
   "metadata": {},
   "outputs": [],
   "source": [
    "#model.save('embedding_NN_model.h5')\n",
    "#model = load_model('embedding_NN_model.h5')"
   ]
  },
  {
   "cell_type": "code",
   "execution_count": 13,
   "metadata": {},
   "outputs": [
    {
     "data": {
      "text/plain": [
       "['loss', 'binary_accuracy']"
      ]
     },
     "execution_count": 13,
     "metadata": {},
     "output_type": "execute_result"
    }
   ],
   "source": [
    "model.metrics_names"
   ]
  },
  {
   "cell_type": "code",
   "execution_count": 50,
   "metadata": {},
   "outputs": [
    {
     "name": "stdout",
     "output_type": "stream",
     "text": [
      "106643/106643 [==============================] - 451s 4ms/step\n"
     ]
    },
    {
     "data": {
      "text/plain": [
       "[0.6867834903568718, 0.7317311028434725]"
      ]
     },
     "execution_count": 50,
     "metadata": {},
     "output_type": "execute_result"
    }
   ],
   "source": [
    "model.evaluate(x=[test[0], test[1]], y=test[2], batch_size=32)"
   ]
  },
  {
   "cell_type": "code",
   "execution_count": 15,
   "metadata": {},
   "outputs": [],
   "source": [
    "predicted = model.predict([test[0], test[1]], batch_size=32)"
   ]
  },
  {
   "cell_type": "code",
   "execution_count": 16,
   "metadata": {},
   "outputs": [],
   "source": [
    "predicted = predicted.ravel()\n",
    "predicted = list(map(lambda x: 1 if x > 0.5 else 0, predicted))"
   ]
  },
  {
   "cell_type": "markdown",
   "metadata": {},
   "source": [
    "## Playing with the real test now"
   ]
  },
  {
   "cell_type": "code",
   "execution_count": 17,
   "metadata": {},
   "outputs": [],
   "source": [
    "path = os.path.join('..','data','test_data.csv')\n",
    "test_data = pd.read_csv(path)"
   ]
  },
  {
   "cell_type": "code",
   "execution_count": 19,
   "metadata": {},
   "outputs": [],
   "source": [
    "train = train_data[['question1', 'question2', 'is_duplicate']].values\n",
    "test = test_data[['question1', 'question2']].values\n",
    "train = train.T\n",
    "test = test.T"
   ]
  },
  {
   "cell_type": "code",
   "execution_count": 20,
   "metadata": {},
   "outputs": [],
   "source": [
    "train, test = prep_data(train, test)"
   ]
  },
  {
   "cell_type": "code",
   "execution_count": 21,
   "metadata": {},
   "outputs": [
    {
     "name": "stdout",
     "output_type": "stream",
     "text": [
      "Epoch 1/5\n",
      "323160/323160 [==============================] - 23s 73us/step - loss: 0.6729 - binary_accuracy: 0.6308\n",
      "Epoch 2/5\n",
      "323160/323160 [==============================] - 23s 71us/step - loss: 0.6709 - binary_accuracy: 0.6307\n",
      "Epoch 3/5\n",
      "323160/323160 [==============================] - 23s 71us/step - loss: 0.6758 - binary_accuracy: 0.6305\n",
      "Epoch 4/5\n",
      "323160/323160 [==============================] - 26s 79us/step - loss: 0.6564 - binary_accuracy: 0.6308\n",
      "Epoch 5/5\n",
      "323160/323160 [==============================] - 25s 79us/step - loss: 0.6069 - binary_accuracy: 0.6699\n"
     ]
    },
    {
     "data": {
      "text/plain": [
       "<keras.callbacks.History at 0x7f09820aee10>"
      ]
     },
     "execution_count": 21,
     "metadata": {},
     "output_type": "execute_result"
    }
   ],
   "source": [
    "model.fit([train[0], train[1]],train[2],batch_size=32, epochs=5)"
   ]
  },
  {
   "cell_type": "code",
   "execution_count": 22,
   "metadata": {},
   "outputs": [],
   "source": [
    "predicted = model.predict([test[0], test[1]], batch_size=32)"
   ]
  },
  {
   "cell_type": "code",
   "execution_count": 23,
   "metadata": {},
   "outputs": [],
   "source": [
    "predicted = predicted.ravel()\n",
    "predicted = list(map(lambda x: 1 if x > 0.5 else 0, predicted))"
   ]
  },
  {
   "cell_type": "code",
   "execution_count": 24,
   "metadata": {},
   "outputs": [
    {
     "name": "stdout",
     "output_type": "stream",
     "text": [
      "saved in:  /home/zenbook/Work/github/quora_npl/models/../data/submissions/submission_0843PM-November-23-2018.csv\n"
     ]
    }
   ],
   "source": [
    "csv_utils.create_csvs(predicted, test_data.test_id.values)"
   ]
  }
 ],
 "metadata": {
  "kernelspec": {
   "display_name": "Python 3",
   "language": "python",
   "name": "python3"
  },
  "language_info": {
   "codemirror_mode": {
    "name": "ipython",
    "version": 3
   },
   "file_extension": ".py",
   "mimetype": "text/x-python",
   "name": "python",
   "nbconvert_exporter": "python",
   "pygments_lexer": "ipython3",
   "version": "3.6.5"
  }
 },
 "nbformat": 4,
 "nbformat_minor": 2
}

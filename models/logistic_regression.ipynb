{
 "cells": [
  {
   "cell_type": "code",
   "execution_count": 38,
   "metadata": {},
   "outputs": [],
   "source": [
    "from sklearn.linear_model import LogisticRegression\n",
    "import os\n",
    "import pandas as pd\n",
    "import numpy as np\n",
    "from sklearn.model_selection import train_test_split\n",
    "from sklearn.metrics import accuracy_score\n",
    "from sklearn.learning_curve import validation_curve\n",
    "import datetime"
   ]
  },
  {
   "cell_type": "code",
   "execution_count": 2,
   "metadata": {},
   "outputs": [],
   "source": [
    "train_path = os.path.join('..','data','train_data_v3_processed.csv')\n",
    "train_data = pd.read_csv(train_path)"
   ]
  },
  {
   "cell_type": "code",
   "execution_count": 30,
   "metadata": {},
   "outputs": [],
   "source": [
    "test_path = os.path.join('..','data','test_data_v3_processed.csv')\n",
    "test_data = pd.read_csv(test_path)"
   ]
  },
  {
   "cell_type": "code",
   "execution_count": 3,
   "metadata": {},
   "outputs": [],
   "source": [
    "df = train_data#[:10000]"
   ]
  },
  {
   "cell_type": "code",
   "execution_count": 44,
   "metadata": {},
   "outputs": [
    {
     "data": {
      "text/plain": [
       "Index(['id', 'question1', 'question2', 'is_duplicate', 'question1_lemma',\n",
       "       'question1_tag', 'question2_lemma', 'question2_tag', 'fuzz_ratio',\n",
       "       'fuzz_partial_ratio', 'fuzz_partial_token_set_ratio',\n",
       "       'fuzz_partial_token_sort_ratio', 'fuzz_token_set_ratio',\n",
       "       'fuzz_token_sort_ratio', 'len_q1', 'len_q2', 'diff_len', 'len_char_q1',\n",
       "       'len_char_q2', 'len_word_q1', 'len_word_q2', 'common_words',\n",
       "       'avg_word_q1', 'avg_word_q2', 'num_stop_words_q1', 'num_stop_words_q2',\n",
       "       'numerics_q1', 'numerics_q2', 'uppercase_q1', 'uppercase_q2',\n",
       "       'softcossim', 'mistakes_q1', 'mistakes_q2', 'spacy_sim',\n",
       "       'q1_q2_intersect', 'q1_freq', 'q2_freq', 'word_match', 'tfidf_wm',\n",
       "       'tfidf_wm_stops', 'jaccard', 'wc_diff', 'wc_ratio', 'wc_diff_unique',\n",
       "       'wc_ratio_unique', 'wc_diff_unq_stop', 'wc_ratio_unique_stop',\n",
       "       'same_start', 'char_diff', 'char_diff_unq_stop', 'total_unique_words',\n",
       "       'total_unq_words_stop', 'char_ratio'],\n",
       "      dtype='object')"
      ]
     },
     "execution_count": 44,
     "metadata": {},
     "output_type": "execute_result"
    }
   ],
   "source": [
    "df.columns"
   ]
  },
  {
   "cell_type": "code",
   "execution_count": 4,
   "metadata": {},
   "outputs": [
    {
     "data": {
      "text/html": [
       "<div>\n",
       "<style scoped>\n",
       "    .dataframe tbody tr th:only-of-type {\n",
       "        vertical-align: middle;\n",
       "    }\n",
       "\n",
       "    .dataframe tbody tr th {\n",
       "        vertical-align: top;\n",
       "    }\n",
       "\n",
       "    .dataframe thead th {\n",
       "        text-align: right;\n",
       "    }\n",
       "</style>\n",
       "<table border=\"1\" class=\"dataframe\">\n",
       "  <thead>\n",
       "    <tr style=\"text-align: right;\">\n",
       "      <th></th>\n",
       "      <th>id</th>\n",
       "      <th>question1</th>\n",
       "      <th>question2</th>\n",
       "      <th>is_duplicate</th>\n",
       "      <th>question1_lemma</th>\n",
       "      <th>question1_tag</th>\n",
       "      <th>question2_lemma</th>\n",
       "      <th>question2_tag</th>\n",
       "      <th>fuzz_ratio</th>\n",
       "      <th>fuzz_partial_ratio</th>\n",
       "      <th>...</th>\n",
       "      <th>wc_diff_unique</th>\n",
       "      <th>wc_ratio_unique</th>\n",
       "      <th>wc_diff_unq_stop</th>\n",
       "      <th>wc_ratio_unique_stop</th>\n",
       "      <th>same_start</th>\n",
       "      <th>char_diff</th>\n",
       "      <th>char_diff_unq_stop</th>\n",
       "      <th>total_unique_words</th>\n",
       "      <th>total_unq_words_stop</th>\n",
       "      <th>char_ratio</th>\n",
       "    </tr>\n",
       "  </thead>\n",
       "  <tbody>\n",
       "    <tr>\n",
       "      <th>0</th>\n",
       "      <td>0</td>\n",
       "      <td>What is the step by step guide to invest in sh...</td>\n",
       "      <td>What is the step by step guide to invest in sh...</td>\n",
       "      <td>0</td>\n",
       "      <td>what be the step by step guide to invest in sh...</td>\n",
       "      <td>WP VBZ DT NN IN NN NN TO VB IN NN NN IN NN .</td>\n",
       "      <td>what be the step by step guide to invest in sh...</td>\n",
       "      <td>WP VBZ DT NN IN NN NN TO VB IN NN NN .</td>\n",
       "      <td>93</td>\n",
       "      <td>98</td>\n",
       "      <td>...</td>\n",
       "      <td>1</td>\n",
       "      <td>0.916667</td>\n",
       "      <td>1</td>\n",
       "      <td>0.833333</td>\n",
       "      <td>1</td>\n",
       "      <td>7</td>\n",
       "      <td>5</td>\n",
       "      <td>13</td>\n",
       "      <td>7</td>\n",
       "      <td>0.867925</td>\n",
       "    </tr>\n",
       "    <tr>\n",
       "      <th>1</th>\n",
       "      <td>1</td>\n",
       "      <td>What is the story of Kohinoor (Koh-i-Noor) Dia...</td>\n",
       "      <td>What would happen if the Indian government sto...</td>\n",
       "      <td>0</td>\n",
       "      <td>what be the story of kohinoor ( koh - i - noor...</td>\n",
       "      <td>WP VBZ DT NN IN NNP -LRB- NNP HYPH NNP HYPH NN...</td>\n",
       "      <td>what would happen if the indian government ste...</td>\n",
       "      <td>WP MD VB IN DT JJ NN VBD DT NNP -LRB- NNP HYPH...</td>\n",
       "      <td>68</td>\n",
       "      <td>78</td>\n",
       "      <td>...</td>\n",
       "      <td>4</td>\n",
       "      <td>1.500000</td>\n",
       "      <td>5</td>\n",
       "      <td>2.250000</td>\n",
       "      <td>1</td>\n",
       "      <td>32</td>\n",
       "      <td>31</td>\n",
       "      <td>16</td>\n",
       "      <td>11</td>\n",
       "      <td>1.727273</td>\n",
       "    </tr>\n",
       "    <tr>\n",
       "      <th>2</th>\n",
       "      <td>2</td>\n",
       "      <td>How can I increase the speed of my internet co...</td>\n",
       "      <td>How can Internet speed be increased by hacking...</td>\n",
       "      <td>0</td>\n",
       "      <td>how can -PRON- increase the speed of -PRON- in...</td>\n",
       "      <td>WRB MD PRP VB DT NN IN PRP$ NN NN IN VBG DT NNP .</td>\n",
       "      <td>how can internet speed be increase by hack thr...</td>\n",
       "      <td>WRB MD VB NN VB VBN IN VBG IN NN .</td>\n",
       "      <td>35</td>\n",
       "      <td>44</td>\n",
       "      <td>...</td>\n",
       "      <td>4</td>\n",
       "      <td>0.714286</td>\n",
       "      <td>1</td>\n",
       "      <td>0.833333</td>\n",
       "      <td>1</td>\n",
       "      <td>10</td>\n",
       "      <td>7</td>\n",
       "      <td>20</td>\n",
       "      <td>9</td>\n",
       "      <td>0.833333</td>\n",
       "    </tr>\n",
       "    <tr>\n",
       "      <th>3</th>\n",
       "      <td>3</td>\n",
       "      <td>Why am I mentally very lonely? How can I solve...</td>\n",
       "      <td>Find the remainder when [math]23^{24}[/math] i...</td>\n",
       "      <td>0</td>\n",
       "      <td>why be -PRON- mentally very lonely ? how can -...</td>\n",
       "      <td>WRB VBP PRP RB RB JJ . WRB MD PRP VB PRP .</td>\n",
       "      <td>find the remainder when [ math]23^{24}[/math ]...</td>\n",
       "      <td>VB DT NN WRB -LRB- NN -RRB- VBZ VBN IN CD .</td>\n",
       "      <td>17</td>\n",
       "      <td>22</td>\n",
       "      <td>...</td>\n",
       "      <td>1</td>\n",
       "      <td>0.900000</td>\n",
       "      <td>1</td>\n",
       "      <td>1.250000</td>\n",
       "      <td>0</td>\n",
       "      <td>17</td>\n",
       "      <td>23</td>\n",
       "      <td>19</td>\n",
       "      <td>9</td>\n",
       "      <td>1.425000</td>\n",
       "    </tr>\n",
       "    <tr>\n",
       "      <th>4</th>\n",
       "      <td>4</td>\n",
       "      <td>Which one dissolve in water quikly sugar, salt...</td>\n",
       "      <td>Which fish would survive in salt water?</td>\n",
       "      <td>0</td>\n",
       "      <td>which one dissolve in water quikly sugar , sal...</td>\n",
       "      <td>WDT CD NN IN NN RB NN , NN , NN CC NN FW NN .</td>\n",
       "      <td>which fish would survive in salt water ?</td>\n",
       "      <td>WDT NN MD VB IN NN NN .</td>\n",
       "      <td>37</td>\n",
       "      <td>55</td>\n",
       "      <td>...</td>\n",
       "      <td>6</td>\n",
       "      <td>0.538462</td>\n",
       "      <td>5</td>\n",
       "      <td>0.500000</td>\n",
       "      <td>1</td>\n",
       "      <td>31</td>\n",
       "      <td>28</td>\n",
       "      <td>18</td>\n",
       "      <td>15</td>\n",
       "      <td>0.515625</td>\n",
       "    </tr>\n",
       "  </tbody>\n",
       "</table>\n",
       "<p>5 rows × 53 columns</p>\n",
       "</div>"
      ],
      "text/plain": [
       "   id                                          question1  \\\n",
       "0   0  What is the step by step guide to invest in sh...   \n",
       "1   1  What is the story of Kohinoor (Koh-i-Noor) Dia...   \n",
       "2   2  How can I increase the speed of my internet co...   \n",
       "3   3  Why am I mentally very lonely? How can I solve...   \n",
       "4   4  Which one dissolve in water quikly sugar, salt...   \n",
       "\n",
       "                                           question2  is_duplicate  \\\n",
       "0  What is the step by step guide to invest in sh...             0   \n",
       "1  What would happen if the Indian government sto...             0   \n",
       "2  How can Internet speed be increased by hacking...             0   \n",
       "3  Find the remainder when [math]23^{24}[/math] i...             0   \n",
       "4            Which fish would survive in salt water?             0   \n",
       "\n",
       "                                     question1_lemma  \\\n",
       "0  what be the step by step guide to invest in sh...   \n",
       "1  what be the story of kohinoor ( koh - i - noor...   \n",
       "2  how can -PRON- increase the speed of -PRON- in...   \n",
       "3  why be -PRON- mentally very lonely ? how can -...   \n",
       "4  which one dissolve in water quikly sugar , sal...   \n",
       "\n",
       "                                       question1_tag  \\\n",
       "0       WP VBZ DT NN IN NN NN TO VB IN NN NN IN NN .   \n",
       "1  WP VBZ DT NN IN NNP -LRB- NNP HYPH NNP HYPH NN...   \n",
       "2  WRB MD PRP VB DT NN IN PRP$ NN NN IN VBG DT NNP .   \n",
       "3         WRB VBP PRP RB RB JJ . WRB MD PRP VB PRP .   \n",
       "4      WDT CD NN IN NN RB NN , NN , NN CC NN FW NN .   \n",
       "\n",
       "                                     question2_lemma  \\\n",
       "0  what be the step by step guide to invest in sh...   \n",
       "1  what would happen if the indian government ste...   \n",
       "2  how can internet speed be increase by hack thr...   \n",
       "3  find the remainder when [ math]23^{24}[/math ]...   \n",
       "4           which fish would survive in salt water ?   \n",
       "\n",
       "                                       question2_tag  fuzz_ratio  \\\n",
       "0             WP VBZ DT NN IN NN NN TO VB IN NN NN .          93   \n",
       "1  WP MD VB IN DT JJ NN VBD DT NNP -LRB- NNP HYPH...          68   \n",
       "2                 WRB MD VB NN VB VBN IN VBG IN NN .          35   \n",
       "3        VB DT NN WRB -LRB- NN -RRB- VBZ VBN IN CD .          17   \n",
       "4                            WDT NN MD VB IN NN NN .          37   \n",
       "\n",
       "   fuzz_partial_ratio     ...      wc_diff_unique  wc_ratio_unique  \\\n",
       "0                  98     ...                   1         0.916667   \n",
       "1                  78     ...                   4         1.500000   \n",
       "2                  44     ...                   4         0.714286   \n",
       "3                  22     ...                   1         0.900000   \n",
       "4                  55     ...                   6         0.538462   \n",
       "\n",
       "   wc_diff_unq_stop  wc_ratio_unique_stop  same_start  char_diff  \\\n",
       "0                 1              0.833333           1          7   \n",
       "1                 5              2.250000           1         32   \n",
       "2                 1              0.833333           1         10   \n",
       "3                 1              1.250000           0         17   \n",
       "4                 5              0.500000           1         31   \n",
       "\n",
       "   char_diff_unq_stop  total_unique_words  total_unq_words_stop  char_ratio  \n",
       "0                   5                  13                     7    0.867925  \n",
       "1                  31                  16                    11    1.727273  \n",
       "2                   7                  20                     9    0.833333  \n",
       "3                  23                  19                     9    1.425000  \n",
       "4                  28                  18                    15    0.515625  \n",
       "\n",
       "[5 rows x 53 columns]"
      ]
     },
     "execution_count": 4,
     "metadata": {},
     "output_type": "execute_result"
    }
   ],
   "source": [
    "df.head()"
   ]
  },
  {
   "cell_type": "code",
   "execution_count": 5,
   "metadata": {},
   "outputs": [],
   "source": [
    "def hms_string(sec_elapsed):\n",
    "    h = int(sec_elapsed / (60 * 60))\n",
    "    m = int((sec_elapsed % (60 * 60)) / 60)\n",
    "    s = sec_elapsed % 60.\n",
    "    return \"{}:{:>02}:{:>05.2f}\".format(h, m, s)"
   ]
  },
  {
   "cell_type": "code",
   "execution_count": 32,
   "metadata": {},
   "outputs": [],
   "source": [
    "x_columns = ['fuzz_ratio',\n",
    "       'fuzz_partial_ratio', 'fuzz_partial_token_set_ratio',\n",
    "       'fuzz_partial_token_sort_ratio', 'fuzz_token_set_ratio',\n",
    "       'fuzz_token_sort_ratio', 'len_q1', 'len_q2', 'diff_len', 'len_char_q1',\n",
    "       'len_char_q2', 'len_word_q1', 'len_word_q2', 'common_words',\n",
    "       'avg_word_q1', 'avg_word_q2', 'num_stop_words_q1', 'num_stop_words_q2',\n",
    "       'numerics_q1', 'numerics_q2', 'uppercase_q1', 'uppercase_q2',\n",
    "       'softcossim', 'mistakes_q1', 'mistakes_q2', 'spacy_sim',\n",
    "       'q1_q2_intersect', 'q1_freq', 'q2_freq', 'word_match', 'tfidf_wm',\n",
    "       'tfidf_wm_stops', 'jaccard', 'wc_diff', 'wc_ratio', 'wc_diff_unique',\n",
    "       'wc_ratio_unique', 'wc_diff_unq_stop', 'wc_ratio_unique_stop',\n",
    "       'same_start', 'char_diff', 'char_diff_unq_stop', 'total_unique_words',\n",
    "       'total_unq_words_stop', 'char_ratio']\n",
    "\n",
    "y_columns = ['is_duplicate']\n",
    "df.fillna(0,inplace=True)\n",
    "test_data.fillna(0,inplace=True)\n",
    "\n",
    "data_y = df[y_columns].values\n",
    "data_x = df[x_columns].values\n",
    "train_x, test_x, train_y, test_y = train_test_split(data_x, data_y, test_size=0.20, random_state=42)\n",
    "#train = train.T\n",
    "#test = test.T"
   ]
  },
  {
   "cell_type": "code",
   "execution_count": 7,
   "metadata": {},
   "outputs": [],
   "source": [
    "train_global_df = pd.DataFrame(np.concatenate((train_x, train_y), axis=1))\n",
    "train_global_df.columns = x_columns + y_columns\n",
    "\n",
    "data_y = train_global_df[y_columns].values\n",
    "data_x = train_global_df[x_columns].values\n",
    "\n",
    "train_x, validation_x, train_y, validation_y = train_test_split(data_x, data_y, test_size=0.20, random_state=42)\n",
    "\n",
    "train_y = train_y.astype('int')\n",
    "validation_y = validation_y.astype('int')"
   ]
  },
  {
   "cell_type": "code",
   "execution_count": 8,
   "metadata": {},
   "outputs": [
    {
     "name": "stderr",
     "output_type": "stream",
     "text": [
      "C:\\ProgramData\\Anaconda3\\lib\\site-packages\\sklearn\\utils\\validation.py:578: DataConversionWarning: A column-vector y was passed when a 1d array was expected. Please change the shape of y to (n_samples, ), for example using ravel().\n",
      "  y = column_or_1d(y, warn=True)\n"
     ]
    },
    {
     "name": "stdout",
     "output_type": "stream",
     "text": [
      "C =  0.001 It took 0:00:14.35 to execute this\n",
      "C =  0.01 It took 0:00:18.62 to execute this\n",
      "C =  0.1 It took 0:00:41.06 to execute this\n",
      "C =  1 It took 0:01:02.19 to execute this\n",
      "C =  10 It took 0:01:06.56 to execute this\n",
      "C =  100 It took 0:01:00.58 to execute this\n",
      "C =  1000 It took 0:01:21.16 to execute this\n"
     ]
    }
   ],
   "source": [
    "C_param_range = [0.001,0.01,0.1,1,10,100,1000]\n",
    "\n",
    "accuracy_table = pd.DataFrame(columns = ['C_parameter','Training Accuracy', 'Testing Accuracy'])\n",
    "accuracy_table['C_parameter'] = C_param_range\n",
    "\n",
    "j = 0\n",
    "for i in C_param_range:\n",
    "    start_time = datetime.datetime.now()\n",
    "    \n",
    "    lr = LogisticRegression(penalty = 'l2', C = i,random_state = 42)\n",
    "    lr.fit(train_x,train_y)\n",
    "    validation_y_pred = lr.predict(validation_x)\n",
    "    \n",
    "    accuracy_table.iloc[j,1] = accuracy_score(validation_y,validation_y_pred)\n",
    "    \n",
    "    \n",
    "    test_y_pred = lr.predict(test_x)\n",
    "    accuracy_table.iloc[j,2] = accuracy_score(test_y,test_y_pred)\n",
    "    j += 1\n",
    "    \n",
    "    end_time = datetime.datetime.now()\n",
    "    seconds_elapsed = (end_time - start_time).total_seconds()\n",
    "    print(\"C = \",i,\"It took {} to execute this\".format(hms_string(seconds_elapsed)))\n",
    "    \n",
    "accuracy_table['Diff'] = np.abs(accuracy_table.iloc[:, 1]-accuracy_table.iloc[:, 2])"
   ]
  },
  {
   "cell_type": "code",
   "execution_count": 10,
   "metadata": {},
   "outputs": [
    {
     "data": {
      "text/html": [
       "<div>\n",
       "<style scoped>\n",
       "    .dataframe tbody tr th:only-of-type {\n",
       "        vertical-align: middle;\n",
       "    }\n",
       "\n",
       "    .dataframe tbody tr th {\n",
       "        vertical-align: top;\n",
       "    }\n",
       "\n",
       "    .dataframe thead th {\n",
       "        text-align: right;\n",
       "    }\n",
       "</style>\n",
       "<table border=\"1\" class=\"dataframe\">\n",
       "  <thead>\n",
       "    <tr style=\"text-align: right;\">\n",
       "      <th></th>\n",
       "      <th>C_parameter</th>\n",
       "      <th>Training Accuracy</th>\n",
       "      <th>Testing Accuracy</th>\n",
       "      <th>Diff</th>\n",
       "    </tr>\n",
       "  </thead>\n",
       "  <tbody>\n",
       "    <tr>\n",
       "      <th>0</th>\n",
       "      <td>0.001</td>\n",
       "      <td>0.856377</td>\n",
       "      <td>0.853619</td>\n",
       "      <td>0.00275802</td>\n",
       "    </tr>\n",
       "    <tr>\n",
       "      <th>1</th>\n",
       "      <td>0.010</td>\n",
       "      <td>0.859358</td>\n",
       "      <td>0.85749</td>\n",
       "      <td>0.00186759</td>\n",
       "    </tr>\n",
       "    <tr>\n",
       "      <th>2</th>\n",
       "      <td>0.100</td>\n",
       "      <td>0.85959</td>\n",
       "      <td>0.857784</td>\n",
       "      <td>0.00180565</td>\n",
       "    </tr>\n",
       "    <tr>\n",
       "      <th>3</th>\n",
       "      <td>1.000</td>\n",
       "      <td>0.859861</td>\n",
       "      <td>0.857552</td>\n",
       "      <td>0.00230891</td>\n",
       "    </tr>\n",
       "    <tr>\n",
       "      <th>4</th>\n",
       "      <td>10.000</td>\n",
       "      <td>0.859861</td>\n",
       "      <td>0.857273</td>\n",
       "      <td>0.00258765</td>\n",
       "    </tr>\n",
       "  </tbody>\n",
       "</table>\n",
       "</div>"
      ],
      "text/plain": [
       "   C_parameter Training Accuracy Testing Accuracy        Diff\n",
       "0        0.001          0.856377         0.853619  0.00275802\n",
       "1        0.010          0.859358          0.85749  0.00186759\n",
       "2        0.100           0.85959         0.857784  0.00180565\n",
       "3        1.000          0.859861         0.857552  0.00230891\n",
       "4       10.000          0.859861         0.857273  0.00258765"
      ]
     },
     "execution_count": 10,
     "metadata": {},
     "output_type": "execute_result"
    }
   ],
   "source": [
    "accuracy_table.head()"
   ]
  },
  {
   "cell_type": "code",
   "execution_count": 26,
   "metadata": {},
   "outputs": [],
   "source": [
    "bestC = accuracy_table[(accuracy_table['Diff'] == accuracy_table['Diff'].min())]['C_parameter'].values.ravel()[0]"
   ]
  },
  {
   "cell_type": "code",
   "execution_count": 27,
   "metadata": {},
   "outputs": [
    {
     "data": {
      "text/plain": [
       "0.1"
      ]
     },
     "execution_count": 27,
     "metadata": {},
     "output_type": "execute_result"
    }
   ],
   "source": [
    "bestC"
   ]
  },
  {
   "cell_type": "code",
   "execution_count": null,
   "metadata": {},
   "outputs": [
    {
     "name": "stderr",
     "output_type": "stream",
     "text": [
      "C:\\ProgramData\\Anaconda3\\lib\\site-packages\\sklearn\\utils\\validation.py:578: DataConversionWarning: A column-vector y was passed when a 1d array was expected. Please change the shape of y to (n_samples, ), for example using ravel().\n",
      "  y = column_or_1d(y, warn=True)\n"
     ]
    }
   ],
   "source": [
    "lr = LogisticRegression(penalty = 'l2', C = bestC, random_state = 42)\n",
    "lr.fit(data_x,data_y)"
   ]
  },
  {
   "cell_type": "code",
   "execution_count": 33,
   "metadata": {},
   "outputs": [],
   "source": [
    "predicted = lr.predict(test_data[x_columns].values)"
   ]
  },
  {
   "cell_type": "code",
   "execution_count": 42,
   "metadata": {},
   "outputs": [],
   "source": [
    "\n",
    "import csv\n",
    "import datetime\n",
    "from os.path import join,abspath,curdir\n",
    "import numpy as np\n",
    "import pandas as pd\n",
    "\n",
    "def create_csvs(predicted, test_ids):\n",
    "    EXPECTED_ROWS = 81126 \n",
    "    tests_ids_len = len(test_ids)\n",
    "    assert(tests_ids_len == EXPECTED_ROWS)\n",
    "    assert(len(predicted)==tests_ids_len)\n",
    "    \n",
    "    FOLDER = join('..','data', 'submissions')\n",
    "    CURRENT_PATH = abspath(curdir)\n",
    "    \n",
    "    merged = {'test_id': test_ids}\n",
    "    merged['is_duplicate'] = predicted\n",
    "\n",
    "    FILENAME = 'submission_' + datetime.datetime.now().strftime(\"%I%M%p-%B-%d-%Y\") + '.csv'\n",
    "    df = pd.DataFrame.from_dict(merged)\n",
    "\n",
    "    df.set_index('test_id', inplace=True)\n",
    "\n",
    "    FULL_PATH = join(CURRENT_PATH, FOLDER, FILENAME)\n",
    "\n",
    "    df.to_csv(path_or_buf=FULL_PATH, sep=',')\n",
    "\n",
    "    print('saved in: ', FULL_PATH)"
   ]
  },
  {
   "cell_type": "code",
   "execution_count": 49,
   "metadata": {},
   "outputs": [
    {
     "name": "stdout",
     "output_type": "stream",
     "text": [
      "saved in:  E:\\Dropbox\\folch\\UVA\\Applied Machine Learning\\Project_quora\\models\\..\\data\\submissions\\submission_0115PM-December-11-2018.csv\n"
     ]
    }
   ],
   "source": [
    "create_csvs(predicted.astype('int'), test_data.test_id.values)"
   ]
  }
 ],
 "metadata": {
  "kernelspec": {
   "display_name": "Python 3",
   "language": "python",
   "name": "python3"
  },
  "language_info": {
   "codemirror_mode": {
    "name": "ipython",
    "version": 3
   },
   "file_extension": ".py",
   "mimetype": "text/x-python",
   "name": "python",
   "nbconvert_exporter": "python",
   "pygments_lexer": "ipython3",
   "version": "3.5.6"
  }
 },
 "nbformat": 4,
 "nbformat_minor": 2
}

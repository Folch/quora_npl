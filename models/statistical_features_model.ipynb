{
 "cells": [
  {
   "cell_type": "code",
   "execution_count": 140,
   "metadata": {},
   "outputs": [],
   "source": [
    "import pandas as pd\n",
    "import nltk\n",
    "from nltk import word_tokenize\n",
    "\n",
    "from nltk.stem.snowball import SnowballStemmer\n",
    "\n",
    "from sklearn.model_selection import train_test_split\n",
    "\n",
    "import os"
   ]
  },
  {
   "cell_type": "code",
   "execution_count": 141,
   "metadata": {},
   "outputs": [],
   "source": [
    "path = os.path.join('..','data','train_data_v2.csv')\n",
    "train_data = pd.read_csv(path)"
   ]
  },
  {
   "cell_type": "markdown",
   "metadata": {},
   "source": [
    "#### Checking how many NaNs there are in the dataset"
   ]
  },
  {
   "cell_type": "code",
   "execution_count": 143,
   "metadata": {},
   "outputs": [
    {
     "data": {
      "text/plain": [
       "id              0\n",
       "question1       1\n",
       "question2       3\n",
       "is_duplicate    0\n",
       "dtype: int64"
      ]
     },
     "execution_count": 143,
     "metadata": {},
     "output_type": "execute_result"
    }
   ],
   "source": [
    "len(train_data) - train_data.count()"
   ]
  },
  {
   "cell_type": "code",
   "execution_count": 144,
   "metadata": {},
   "outputs": [],
   "source": [
    "train_data.dropna(inplace=True)"
   ]
  },
  {
   "cell_type": "code",
   "execution_count": 146,
   "metadata": {},
   "outputs": [],
   "source": [
    "# tokenize questions\n",
    "train_data.question1 = train_data.question1.apply(word_tokenize)\n",
    "train_data.question2 = train_data.question2.apply(word_tokenize)"
   ]
  },
  {
   "cell_type": "code",
   "execution_count": 148,
   "metadata": {},
   "outputs": [],
   "source": [
    "stemmer=SnowballStemmer(\"english\")\n",
    "#example: stemmer.stem(\"having\") -> have"
   ]
  },
  {
   "cell_type": "code",
   "execution_count": 149,
   "metadata": {},
   "outputs": [],
   "source": [
    "# tokenize questions\n",
    "steeming = lambda tokens: [stemmer.stem(token) for token in tokens]\n",
    "train_data.question1 = train_data.question1.apply(steeming)\n",
    "train_data.question2 = train_data.question2.apply(steeming)"
   ]
  },
  {
   "cell_type": "code",
   "execution_count": 150,
   "metadata": {},
   "outputs": [],
   "source": [
    "wh = ['what', 'where', 'what', 'why', 'which', 'how']\n",
    "def contain5W1H(tokens):\n",
    "    return any([stemmer.stem(x) in tokens for x in wh])\n",
    "\n",
    "def which5W1H(tokens):\n",
    "    #print([stemmer.stem(x) for x in wh if stemmer.stem(x) in tokens][0])\n",
    "    for x in wh:\n",
    "        s = stemmer.stem(x) \n",
    "        if s in tokens:\n",
    "            return s\n",
    "\n",
    "def get_features(q1, q2):\n",
    "    output = {}\n",
    "    tokens1 = list(set(q1))\n",
    "    tokens2 = list(set(q2))\n",
    "    output['similar_words'] = sum([word in tokens2 for word in tokens1])\n",
    "    output['both_contain_5w-1h'] = contain5W1H(q1) and contain5W1H(q2)\n",
    "    output['same_5w-1h'] = which5W1H(q1) == which5W1H(q2)\n",
    "    output['length_q1'] = len(q1)\n",
    "    output['length_q2'] = len(q2)\n",
    "    return output"
   ]
  },
  {
   "cell_type": "code",
   "execution_count": 151,
   "metadata": {},
   "outputs": [
    {
     "name": "stdout",
     "output_type": "stream",
     "text": [
      "['should', 'i', 'buy', 'tiago', '?']\n",
      "['what', 'keep', 'childern', 'activ', 'and', 'far', 'from', 'phone', 'and', 'video', 'game', '?']\n"
     ]
    },
    {
     "data": {
      "text/plain": [
       "{'similar_words': 1,\n",
       " 'both_contain_5w-1h': False,\n",
       " 'same_5w-1h': False,\n",
       " 'length_q1': 5,\n",
       " 'length_q2': 12}"
      ]
     },
     "execution_count": 151,
     "metadata": {},
     "output_type": "execute_result"
    }
   ],
   "source": [
    "# Example\n",
    "q1 = train_data.question1.at[6]\n",
    "q2 = train_data.question2.at[6]\n",
    "print(q1)\n",
    "print(q2)\n",
    "get_features(q1, q2)"
   ]
  },
  {
   "cell_type": "code",
   "execution_count": 152,
   "metadata": {},
   "outputs": [],
   "source": [
    "featuresets = [(get_features(row.question1, row.question2), row.is_duplicate) for (index, row) in train_data.iterrows()]\n",
    "train, test = train_test_split(featuresets, test_size=0.33, random_state=42)"
   ]
  },
  {
   "cell_type": "code",
   "execution_count": 153,
   "metadata": {},
   "outputs": [],
   "source": [
    "classifier = nltk.NaiveBayesClassifier.train(train)"
   ]
  },
  {
   "cell_type": "code",
   "execution_count": 154,
   "metadata": {},
   "outputs": [
    {
     "name": "stdout",
     "output_type": "stream",
     "text": [
      "0.6596588618099641\n"
     ]
    }
   ],
   "source": [
    "print(nltk.classify.accuracy(classifier, test))"
   ]
  }
 ],
 "metadata": {
  "kernelspec": {
   "display_name": "Python 3",
   "language": "python",
   "name": "python3"
  },
  "language_info": {
   "codemirror_mode": {
    "name": "ipython",
    "version": 3
   },
   "file_extension": ".py",
   "mimetype": "text/x-python",
   "name": "python",
   "nbconvert_exporter": "python",
   "pygments_lexer": "ipython3",
   "version": "3.6.5"
  }
 },
 "nbformat": 4,
 "nbformat_minor": 2
}
